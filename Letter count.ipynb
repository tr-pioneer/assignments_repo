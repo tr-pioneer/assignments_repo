{
 "cells": [
  {
   "cell_type": "code",
   "execution_count": 7,
   "metadata": {},
   "outputs": [
    {
     "name": "stdin",
     "output_type": "stream",
     "text": [
      "enter a word:  run fun\n"
     ]
    },
    {
     "name": "stdout",
     "output_type": "stream",
     "text": [
      "[1, 1, 1, 1, 1, 2, 2]\n",
      "{'r': 1, 'u': 2, 'n': 2, ' ': 1, 'f': 1}\n"
     ]
    }
   ],
   "source": [
    "input1 = str(input(\"enter a word: \"))\n",
    "key_list = []\n",
    "value_list = []\n",
    "\n",
    "for i in input1:\n",
    "    key_list.append(i)\n",
    "    value_list.append(key_list.count(i))\n",
    "\n",
    "dic1 = dict(zip(key_list, value_list))            \n",
    "          \n",
    "print(value_list)\n",
    "print (dic1)"
   ]
  },
  {
   "cell_type": "code",
   "execution_count": 30,
   "metadata": {},
   "outputs": [
    {
     "name": "stdin",
     "output_type": "stream",
     "text": [
      "enter a word:  fun at sun\n"
     ]
    },
    {
     "name": "stdout",
     "output_type": "stream",
     "text": [
      "{'f': 1, 'u': 2, 'n': 2, ' ': 2, 'a': 1, 't': 1, 's': 1}\n"
     ]
    }
   ],
   "source": [
    "input1 = str(input(\"enter a word: \"))\n",
    "\n",
    "dict_1 = dict(zip(list(input1), [list(input1).count(i) for i in list(input1)]))\n",
    "\n",
    "print(dict_1)\n",
    "\n",
    "\n"
   ]
  }
 ],
 "metadata": {
  "kernelspec": {
   "display_name": "Python 3",
   "language": "python",
   "name": "python3"
  },
  "language_info": {
   "codemirror_mode": {
    "name": "ipython",
    "version": 3
   },
   "file_extension": ".py",
   "mimetype": "text/x-python",
   "name": "python",
   "nbconvert_exporter": "python",
   "pygments_lexer": "ipython3",
   "version": "3.8.5"
  }
 },
 "nbformat": 4,
 "nbformat_minor": 4
}
