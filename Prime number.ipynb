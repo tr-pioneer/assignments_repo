{
 "cells": [
  {
   "cell_type": "code",
   "execution_count": 52,
   "metadata": {},
   "outputs": [
    {
     "name": "stdin",
     "output_type": "stream",
     "text": [
      "Enter the number to check?:  10\n"
     ]
    },
    {
     "name": "stdout",
     "output_type": "stream",
     "text": [
      "This is also not a prime number. Divides by 2 without a remainder:  5\n"
     ]
    }
   ],
   "source": [
    "num_inpt = int(input(\"Enter the number to check?: \").strip())\n",
    " \n",
    "if num_inpt**0.5 == int(num_inpt**0.5):  # Checks if entered number divides by 2 without a remainder or returns mathematical root \n",
    "    print (\"This is not a Prime Number. \" \"Mathematical root is: \", num_inpt**0.5)  # if True - prints this statement\n",
    "elif num_inpt%2 == 0:\n",
    "    print (\"This is not a Prime Number. Divides by 2 without a remainder: \", num_inpt//2)  # if True - prints this statement\n",
    "else:  \n",
    "    print (\"this is Prime Number\")    # else, prints that statement\n",
    "    "
   ]
  },
  {
   "cell_type": "code",
   "execution_count": null,
   "metadata": {},
   "outputs": [],
   "source": [
    "def is_square(n):\n",
    "    return n**0.5 == int(n**0.5)\n",
    "is_square(16)"
   ]
  },
  {
   "cell_type": "code",
   "execution_count": null,
   "metadata": {},
   "outputs": [],
   "source": []
  }
 ],
 "metadata": {
  "kernelspec": {
   "display_name": "Python 3",
   "language": "python",
   "name": "python3"
  },
  "language_info": {
   "codemirror_mode": {
    "name": "ipython",
    "version": 3
   },
   "file_extension": ".py",
   "mimetype": "text/x-python",
   "name": "python",
   "nbconvert_exporter": "python",
   "pygments_lexer": "ipython3",
   "version": "3.8.5"
  }
 },
 "nbformat": 4,
 "nbformat_minor": 4
}
