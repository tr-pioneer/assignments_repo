{
 "cells": [
  {
   "cell_type": "code",
   "execution_count": 114,
   "metadata": {},
   "outputs": [
    {
     "name": "stdout",
     "output_type": "stream",
     "text": [
      "[0, 1, 1, 2, 3, 5, 8, 13, 21, 34, 55]\n"
     ]
    }
   ],
   "source": [
    "fib_list = [0,1]   #\n",
    "fib_num = 0\n",
    "\n",
    "for i in range(len(fib_list)): \n",
    "    while fib_num !=55 :\n",
    "        fib_num = fib_list[i-1] + (fib_list[i-1-1])\n",
    "        fib_list.append(fib_num)\n",
    "print (fib_list)"
   ]
  },
  {
   "cell_type": "code",
   "execution_count": 9,
   "metadata": {},
   "outputs": [
    {
     "name": "stdout",
     "output_type": "stream",
     "text": [
      "[0, 1, 1, 2, 3, 5, 8, 13, 21, 34, 55, 89, 144, 233, 377, 610, 987]\n"
     ]
    }
   ],
   "source": [
    "fib_list = [0,1]\n",
    "fib_num = 0\n",
    "count = 0\n",
    "\n",
    "for i in range(len(fib_list)): \n",
    "    while count < 15:\n",
    "        fib_num = fib_list[i-1] + (fib_list[i-1-1])\n",
    "        fib_list.append(fib_num)\n",
    "        count += 1\n",
    "print (fib_list)\n",
    "\n"
   ]
  },
  {
   "cell_type": "code",
   "execution_count": null,
   "metadata": {},
   "outputs": [],
   "source": []
  }
 ],
 "metadata": {
  "kernelspec": {
   "display_name": "Python 3",
   "language": "python",
   "name": "python3"
  },
  "language_info": {
   "codemirror_mode": {
    "name": "ipython",
    "version": 3
   },
   "file_extension": ".py",
   "mimetype": "text/x-python",
   "name": "python",
   "nbconvert_exporter": "python",
   "pygments_lexer": "ipython3",
   "version": "3.8.5"
  }
 },
 "nbformat": 4,
 "nbformat_minor": 4
}
