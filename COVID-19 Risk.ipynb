{
 "cells": [
  {
   "cell_type": "code",
   "execution_count": null,
   "metadata": {},
   "outputs": [],
   "source": [
    "age = str(input(\"Are you a cigarette addict older than 75 years old: \").title().strip())\n",
    "chronic = str(input(\"Do you have a severe chronic disease?: \").title().strip())\n",
    "immune = str(input(\"Is your immune system too weak: \").title().strip())\n",
    "\n",
    "while age:\n",
    "    if age == \"Yes\":\n",
    "        age = True\n",
    "        break\n",
    "    elif age == \"No\":\n",
    "        age = False\n",
    "        break\n",
    "    else:\n",
    "        print(\"Please answer yes, or no for age\")\n",
    "        age = str(input(\"Are you a cigarette addict older than 75 years old: \").title().strip())\n",
    "\n",
    "while chronic:\n",
    "    if chronic == \"Yes\":\n",
    "        chronic = True\n",
    "        break\n",
    "    elif chronic == \"No\":\n",
    "        chronic = False\n",
    "        break\n",
    "    else:\n",
    "        print(\"Please answer yes, or no for chronic\")\n",
    "        chronic = str(input(\"Do you have a severe chronic disease?: \").title().strip())\n",
    "\n",
    "while immune:\n",
    "    if immune == \"Yes\":\n",
    "        immune = True\n",
    "        break\n",
    "    elif immune == \"No\":\n",
    "        immune = False\n",
    "        break\n",
    "    else:\n",
    "        print(\"Please answer yes, or no for immune\")\n",
    "        immune = str(input(\"Do you have a severe chronic disease?: \").title().strip())\n",
    "\n",
    "print(\"You are in a risk group: \", age or chronic or immune)\n",
    "        \n",
    "\n",
    "\n",
    "                  "
   ]
  },
  {
   "cell_type": "code",
   "execution_count": null,
   "metadata": {},
   "outputs": [],
   "source": []
  },
  {
   "cell_type": "code",
   "execution_count": null,
   "metadata": {},
   "outputs": [],
   "source": []
  },
  {
   "cell_type": "code",
   "execution_count": 5,
   "metadata": {},
   "outputs": [
    {
     "name": "stdin",
     "output_type": "stream",
     "text": [
      "Are you a cigarette addict older than 75 years old:  te\n",
      "Do you have a severe chronic disease?:  no\n",
      "Is your immune system too weak:  sd\n"
     ]
    },
    {
     "name": "stdout",
     "output_type": "stream",
     "text": [
      "Please enter yes or no for age\n"
     ]
    },
    {
     "name": "stdin",
     "output_type": "stream",
     "text": [
      "Are you a cigarette addict older than 75 years old:  yes\n"
     ]
    },
    {
     "name": "stdout",
     "output_type": "stream",
     "text": [
      "Please enter yes or no for immune\n"
     ]
    },
    {
     "name": "stdin",
     "output_type": "stream",
     "text": [
      "Is your immune system too weak:  no\n"
     ]
    },
    {
     "name": "stdout",
     "output_type": "stream",
     "text": [
      "Yes No No\n",
      "['Yes', 'No', 'No']\n",
      "[True, False, False]\n",
      "Your are in a risk zone:  True\n"
     ]
    }
   ],
   "source": [
    "age = str(input(\"Are you a cigarette addict older than 75 years old: \").title().strip())\n",
    "chronic = str(input(\"Do you have a severe chronic disease?: \").title().strip())\n",
    "immune = str(input(\"Is your immune system too weak: \").title().strip())\n",
    "\n",
    "inputs = []\n",
    "bool_values = []\n",
    "while age and chronic and immune:\n",
    "    if age != \"Yes\" and age !=\"No\":\n",
    "        print (\"Please enter yes or no for age\")\n",
    "        age = str(input(\"Are you a cigarette addict older than 75 years old: \").title().strip())\n",
    "    else:\n",
    "        while chronic != \"Yes\" and chronic !=\"No\":\n",
    "            print (\"Please enter yes or no for chronic\")\n",
    "            chronic = str(input(\"Do you have a severe chronic disease?: \").title().strip())\n",
    "        else:\n",
    "            while immune != \"Yes\" and immune !=\"No\":\n",
    "                print (\"Please enter yes or no for immune\")\n",
    "                immune = str(input(\"Is your immune system too weak: \").title().strip())\n",
    "        break\n",
    "print (age, chronic, immune)\n",
    "if age == \"Yes\" or age == \"No\" and chronic == \"Yes\" or chronic == \"No\" and immune == \"Yes\" or immune == \"No\":\n",
    "    inputs.append(age)\n",
    "    inputs.append(chronic)\n",
    "    inputs.append(immune)\n",
    "    print(inputs)\n",
    "for i in inputs:\n",
    "    if i == \"Yes\":\n",
    "        i = True\n",
    "        bool_values.append(i)\n",
    "    elif i ==\"No\":\n",
    "        i = False\n",
    "        bool_values.append(i)\n",
    "print(bool_values)\n",
    "print (\"Your are in a risk zone: \", bool_values[0] or bool_values[1] or bool_values[2])"
   ]
  },
  {
   "cell_type": "code",
   "execution_count": null,
   "metadata": {},
   "outputs": [],
   "source": [
    "age = str(input(\"Are you a cigarette addict older than 75 years old: \").title().strip())\n",
    "chronic = str(input(\"Do you have a severe chronic disease?: \").title().strip())\n",
    "immune = str(input(\"Is your immune system too weak: \").title().strip())\n",
    "\n",
    "inputs = []\n",
    "bool_values = []\n",
    "while age != \"Yes\" and age !=\"No\":\n",
    "    print (\"Please enter yes or no for age\")\n",
    "    age = str(input(\"Are you a cigarette addict older than 75 years old: \").title().strip()) \n",
    "while chronic != \"Yes\" and chronic !=\"No\":\n",
    "    print (\"Please enter yes or no for chronic\")\n",
    "    chronic = str(input(\"Do you have a severe chronic disease?: \").title().strip())\n",
    "while immune != \"Yes\" and immune !=\"No\":\n",
    "    print (\"Please enter yes or no for immune\")\n",
    "    immune = str(input(\"Is your immune system too weak: \").title().strip())\n",
    "print (age, chronic, immune)\n",
    "if age == \"Yes\" or age == \"No\" and chronic == \"Yes\" or chronic == \"No\" and immune == \"Yes\" or immune == \"No\":\n",
    "    inputs.append(age)\n",
    "    inputs.append(chronic)\n",
    "    inputs.append(immune)\n",
    "    print(inputs)\n",
    "for i in inputs:\n",
    "    if i == \"Yes\":\n",
    "        i = True\n",
    "        bool_values.append(i)\n",
    "    elif i ==\"No\":\n",
    "        i = False\n",
    "        bool_values.append(i)\n",
    "print(bool_values)\n",
    "print (\"Your are in a risk zone: \", bool_values[0] or bool_values[1] or bool_values[2])"
   ]
  },
  {
   "cell_type": "code",
   "execution_count": null,
   "metadata": {},
   "outputs": [],
   "source": []
  }
 ],
 "metadata": {
  "kernelspec": {
   "display_name": "Python 3",
   "language": "python",
   "name": "python3"
  },
  "language_info": {
   "codemirror_mode": {
    "name": "ipython",
    "version": 3
   },
   "file_extension": ".py",
   "mimetype": "text/x-python",
   "name": "python",
   "nbconvert_exporter": "python",
   "pygments_lexer": "ipython3",
   "version": "3.8.5"
  }
 },
 "nbformat": 4,
 "nbformat_minor": 4
}
